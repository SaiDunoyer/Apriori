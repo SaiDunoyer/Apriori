{
  "cells": [
    {
      "cell_type": "markdown",
      "metadata": {
        "id": "h2q27gKz1H20"
      },
      "source": [
        "##### Copyright 2023 The MediaPipe Authors. All Rights Reserved."
      ]
    },
    {
      "cell_type": "code",
      "execution_count": null,
      "metadata": {
        "cellView": "form",
        "id": "TUfAcER1oUS6"
      },
      "outputs": [],
      "source": [
        "#@title Licensed under the Apache License, Version 2.0 (the \"License\");\n",
        "# you may not use this file except in compliance with the License.\n",
        "# You may obtain a copy of the License at\n",
        "#\n",
        "# https://www.apache.org/licenses/LICENSE-2.0\n",
        "#\n",
        "# Unless required by applicable law or agreed to in writing, software\n",
        "# distributed under the License is distributed on an \"AS IS\" BASIS,\n",
        "# WITHOUT WARRANTIES OR CONDITIONS OF ANY KIND, either express or implied.\n",
        "# See the License for the specific language governing permissions and\n",
        "# limitations under the License."
      ]
    },
    {
      "cell_type": "markdown",
      "metadata": {
        "id": "L_cQX8dWu4Dv"
      },
      "source": [
        "# Pose Landmarks Detection with MediaPipe Tasks\n",
        "\n",
        "This notebook shows you how to use MediaPipe Tasks Python API to detect pose landmarks from images."
      ]
    },
    {
      "cell_type": "markdown",
      "metadata": {
        "id": "O6PN9FvIx614"
      },
      "source": [
        "## Preparation\n",
        "\n",
        "Let's start with installing MediaPipe.\n"
      ]
    },
    {
      "cell_type": "code",
      "execution_count": 7,
      "metadata": {
        "id": "gxbHBsF-8Y_l",
        "outputId": "5a0de0d6-2e1f-4485-ad1a-d19b1598ec50",
        "colab": {
          "base_uri": "https://localhost:8080/"
        }
      },
      "outputs": [
        {
          "output_type": "stream",
          "name": "stdout",
          "text": [
            "\u001b[2K   \u001b[90m━━━━━━━━━━━━━━━━━━━━━━━━━━━━━━━━━━━━━━━━\u001b[0m \u001b[32m35.6/35.6 MB\u001b[0m \u001b[31m44.4 MB/s\u001b[0m eta \u001b[36m0:00:00\u001b[0m\n",
            "\u001b[?25h"
          ]
        }
      ],
      "source": [
        "!pip install -q mediapipe"
      ]
    },
    {
      "cell_type": "markdown",
      "metadata": {
        "id": "a49D7h4TVmru"
      },
      "source": [
        "Then download an off-the-shelf model bundle. Check out the [MediaPipe documentation](https://developers.google.com/mediapipe/solutions/vision/pose_landmarker#models) for more information about this model bundle."
      ]
    },
    {
      "cell_type": "code",
      "execution_count": 8,
      "metadata": {
        "id": "OMjuVQiDYJKF"
      },
      "outputs": [],
      "source": [
        "!wget -O pose_landmarker.task -q https://storage.googleapis.com/mediapipe-models/pose_landmarker/pose_landmarker_heavy/float16/1/pose_landmarker_heavy.task"
      ]
    },
    {
      "cell_type": "markdown",
      "metadata": {
        "id": "YYKAJ5nDU8-I"
      },
      "source": [
        "## Visualization utilities"
      ]
    },
    {
      "cell_type": "code",
      "execution_count": null,
      "metadata": {
        "id": "s3E6NFV-00Qt"
      },
      "outputs": [],
      "source": [
        "#@markdown To better demonstrate the Pose Landmarker API, we have created a set of visualization tools that will be used in this colab. These will draw the landmarks on a detect person, as well as the expected connections between those markers.\n",
        "\n",
        "from mediapipe import solutions\n",
        "from mediapipe.framework.formats import landmark_pb2\n",
        "import numpy as np\n",
        "\n",
        "\n",
        "def draw_landmarks_on_image(rgb_image, detection_result):\n",
        "  pose_landmarks_list = detection_result.pose_landmarks\n",
        "  annotated_image = np.copy(rgb_image)\n",
        "\n",
        "  # Loop through the detected poses to visualize.\n",
        "  for idx in range(len(pose_landmarks_list)):\n",
        "    pose_landmarks = pose_landmarks_list[idx]\n",
        "\n",
        "    # Draw the pose landmarks.\n",
        "    pose_landmarks_proto = landmark_pb2.NormalizedLandmarkList()\n",
        "    pose_landmarks_proto.landmark.extend([\n",
        "      landmark_pb2.NormalizedLandmark(x=landmark.x, y=landmark.y, z=landmark.z) for landmark in pose_landmarks\n",
        "    ])\n",
        "    solutions.drawing_utils.draw_landmarks(\n",
        "      annotated_image,\n",
        "      pose_landmarks_proto,\n",
        "      solutions.pose.POSE_CONNECTIONS,\n",
        "      solutions.drawing_styles.get_default_pose_landmarks_style())\n",
        "  return annotated_image"
      ]
    },
    {
      "cell_type": "markdown",
      "metadata": {
        "id": "83PEJNp9yPBU"
      },
      "source": [
        "## Download test image\n",
        "\n",
        "To demonstrate the Pose Landmarker API, you can download a sample image using the follow code. The image is from [Pixabay](https://pixabay.com/photos/girl-woman-fitness-beautiful-smile-4051811/)."
      ]
    },
    {
      "cell_type": "code",
      "execution_count": null,
      "metadata": {
        "id": "tzXuqyIBlXer"
      },
      "outputs": [],
      "source": [
        "!wget -q -O image.jpg https://cdn.pixabay.com/photo/2019/03/12/20/39/girl-4051811_960_720.jpg\n",
        "\n",
        "import cv2\n",
        "from google.colab.patches import cv2_imshow\n",
        "\n",
        "img = cv2.imread(\"image.jpg\")\n",
        "cv2_imshow(img)"
      ]
    },
    {
      "cell_type": "markdown",
      "metadata": {
        "id": "u-skLwMBmMN_"
      },
      "source": [
        "Optionally, you can upload your own image. If you want to do so, uncomment and run the cell below."
      ]
    },
    {
      "cell_type": "code",
      "execution_count": null,
      "metadata": {
        "id": "etBjSdwImQPw"
      },
      "outputs": [],
      "source": [
        "# from google.colab import files\n",
        "# uploaded = files.upload()\n",
        "\n",
        "# for filename in uploaded:\n",
        "#   content = uploaded[filename]\n",
        "#   with open(filename, 'wb') as f:\n",
        "#     f.write(content)\n",
        "\n",
        "# if len(uploaded.keys()):\n",
        "#   IMAGE_FILE = next(iter(uploaded))\n",
        "#   print('Uploaded file:', IMAGE_FILE)"
      ]
    },
    {
      "cell_type": "markdown",
      "metadata": {
        "id": "Iy4r2_ePylIa"
      },
      "source": [
        "## Running inference and visualizing the results\n",
        "\n",
        "The final step is to run pose landmark detection on your selected image. This involves creating your PoseLandmarker object, loading your image, running detection, and finally, the optional step of displaying the image with visualizations.\n",
        "\n",
        "Check out the [MediaPipe documentation](https://developers.google.com/mediapipe/solutions/vision/pose_landmarker/python) to learn more about configuration options that this solution supports.\n"
      ]
    },
    {
      "cell_type": "code",
      "execution_count": null,
      "metadata": {
        "id": "_JVO3rvPD4RN"
      },
      "outputs": [],
      "source": [
        "# STEP 1: Import the necessary modules.\n",
        "import mediapipe as mp\n",
        "from mediapipe.tasks import python\n",
        "from mediapipe.tasks.python import vision\n",
        "\n",
        "# STEP 2: Create an PoseLandmarker object.\n",
        "base_options = python.BaseOptions(model_asset_path='pose_landmarker.task')\n",
        "options = vision.PoseLandmarkerOptions(\n",
        "    base_options=base_options,\n",
        "    output_segmentation_masks=True)\n",
        "detector = vision.PoseLandmarker.create_from_options(options)\n",
        "\n",
        "# STEP 3: Load the input image.\n",
        "image = mp.Image.create_from_file(\"image.jpg\")\n",
        "\n",
        "# STEP 4: Detect pose landmarks from the input image.\n",
        "detection_result = detector.detect(image)\n",
        "\n",
        "# STEP 5: Process the detection result. In this case, visualize it.\n",
        "annotated_image = draw_landmarks_on_image(image.numpy_view(), detection_result)\n",
        "cv2_imshow(cv2.cvtColor(annotated_image, cv2.COLOR_RGB2BGR))"
      ]
    },
    {
      "cell_type": "markdown",
      "metadata": {
        "id": "_BwzFvaxwtPX"
      },
      "source": [
        "Visualize the pose segmentation mask."
      ]
    },
    {
      "cell_type": "code",
      "execution_count": null,
      "metadata": {
        "id": "3jAIFzw9M3JJ"
      },
      "outputs": [],
      "source": [
        "segmentation_mask = detection_result.segmentation_masks[0].numpy_view()\n",
        "visualized_mask = np.repeat(segmentation_mask[:, :, np.newaxis], 3, axis=2) * 255\n",
        "cv2_imshow(visualized_mask)"
      ]
    },
    {
      "cell_type": "code",
      "source": [
        "import cv2"
      ],
      "metadata": {
        "id": "ud58k9ERj03U"
      },
      "execution_count": 2,
      "outputs": []
    },
    {
      "cell_type": "code",
      "source": [
        "KEY_LANDMARKS = {\n",
        "    \"LEFT_HIP\": 23, \"RIGHT_HIP\": 24,\n",
        "    \"LEFT_KNEE\": 25, \"RIGHT_KNEE\": 26,\n",
        "    \"LEFT_ANKLE\": 27, \"RIGHT_ANKLE\": 28,\n",
        "    \"LEFT_SHOULDER\": 11, \"RIGHT_SHOULDER\": 12\n",
        "}"
      ],
      "metadata": {
        "id": "nA5zTnbgkw0G"
      },
      "execution_count": null,
      "outputs": []
    },
    {
      "cell_type": "code",
      "source": [
        "  # Lecture de la vidéo avec OpenCV\n",
        "  cap = cv2.VideoCapture(\"IMG_0753.MOV\")\n"
      ],
      "metadata": {
        "id": "sJRXO9Laj3Dc"
      },
      "execution_count": 3,
      "outputs": []
    },
    {
      "cell_type": "code",
      "source": [
        "def new_extract_squat_data(results, prev_landmark):\n",
        "  data = {\"landmarks\": {}, \"angles\": {}}\n",
        "\n",
        "  if results.pose_landmarks:\n",
        "    landmarks = results.pose_landmarks.landmark\n",
        "\n",
        "    # Récupération des coordonnées des points clés\n",
        "    for name, idx in KEY_LANDMARKS.items():\n",
        "        data[\"landmarks\"][name] = {\n",
        "            \"x\": landmarks[idx].x,\n",
        "            \"y\": landmarks[idx].y,\n",
        "            \"z\": landmarks[idx].z\n",
        "        }\n",
        "    # Calcul des angles et Incrémenter que s'il y a une différence entre la position actuelle et celle d'avant\n",
        "    if has_movement(data[\"landmarks\"], prev_landmark):\n",
        "      # Calcul des angles importants pour le squat\n",
        "      data[\"angles\"][\"left_knee\"] = calculate_angle(\n",
        "          [landmarks[KEY_LANDMARKS[\"LEFT_HIP\"]].x, landmarks[KEY_LANDMARKS[\"LEFT_HIP\"]].y],\n",
        "          [landmarks[KEY_LANDMARKS[\"LEFT_KNEE\"]].x, landmarks[KEY_LANDMARKS[\"LEFT_KNEE\"]].y],\n",
        "          [landmarks[KEY_LANDMARKS[\"LEFT_ANKLE\"]].x, landmarks[KEY_LANDMARKS[\"LEFT_ANKLE\"]].y]\n",
        "      )\n",
        "\n",
        "      data[\"angles\"][\"right_knee\"] = calculate_angle(\n",
        "          [landmarks[KEY_LANDMARKS[\"RIGHT_HIP\"]].x, landmarks[KEY_LANDMARKS[\"RIGHT_HIP\"]].y],\n",
        "          [landmarks[KEY_LANDMARKS[\"RIGHT_KNEE\"]].x, landmarks[KEY_LANDMARKS[\"RIGHT_KNEE\"]].y],\n",
        "          [landmarks[KEY_LANDMARKS[\"RIGHT_ANKLE\"]].x, landmarks[KEY_LANDMARKS[\"RIGHT_ANKLE\"]].y]\n",
        "      )\n",
        "\n",
        "      data[\"angles\"][\"back_angle\"] = calculate_angle(\n",
        "          [landmarks[KEY_LANDMARKS[\"LEFT_SHOULDER\"]].x, landmarks[KEY_LANDMARKS[\"LEFT_SHOULDER\"]].y],\n",
        "          [landmarks[KEY_LANDMARKS[\"LEFT_HIP\"]].x, landmarks[KEY_LANDMARKS[\"LEFT_HIP\"]].y],\n",
        "          [landmarks[KEY_LANDMARKS[\"LEFT_KNEE\"]].x, landmarks[KEY_LANDMARKS[\"LEFT_KNEE\"]].y]\n",
        "      )\n",
        "      prev_landmark = data[\"landmarks\"]\n",
        "  return data[\"angles\"], prev_landmark"
      ],
      "metadata": {
        "id": "ZNv8ZQqIn6Rs"
      },
      "execution_count": null,
      "outputs": []
    },
    {
      "cell_type": "code",
      "source": [
        "def extract_squat_data(results, prev_results):\n",
        "    data = {\"landmarks\": {}, \"angles\": {}}\n",
        "\n",
        "    if results.pose_landmarks:\n",
        "        landmarks = results.pose_landmarks.landmark\n",
        "\n",
        "        # Récupération des coordonnées des points clés\n",
        "        for name, idx in KEY_LANDMARKS.items():\n",
        "            data[\"landmarks\"][name] = {\n",
        "                \"x\": landmarks[idx].x,\n",
        "                \"y\": landmarks[idx].y,\n",
        "                \"z\": landmarks[idx].z\n",
        "            }\n",
        "\n",
        "        # Calcul des angles importants pour le squat\n",
        "        data[\"angles\"][\"left_knee\"] = calculate_angle(\n",
        "            [landmarks[KEY_LANDMARKS[\"LEFT_HIP\"]].x, landmarks[KEY_LANDMARKS[\"LEFT_HIP\"]].y],\n",
        "            [landmarks[KEY_LANDMARKS[\"LEFT_KNEE\"]].x, landmarks[KEY_LANDMARKS[\"LEFT_KNEE\"]].y],\n",
        "            [landmarks[KEY_LANDMARKS[\"LEFT_ANKLE\"]].x, landmarks[KEY_LANDMARKS[\"LEFT_ANKLE\"]].y]\n",
        "        )\n",
        "\n",
        "        data[\"angles\"][\"right_knee\"] = calculate_angle(\n",
        "            [landmarks[KEY_LANDMARKS[\"RIGHT_HIP\"]].x, landmarks[KEY_LANDMARKS[\"RIGHT_HIP\"]].y],\n",
        "            [landmarks[KEY_LANDMARKS[\"RIGHT_KNEE\"]].x, landmarks[KEY_LANDMARKS[\"RIGHT_KNEE\"]].y],\n",
        "            [landmarks[KEY_LANDMARKS[\"RIGHT_ANKLE\"]].x, landmarks[KEY_LANDMARKS[\"RIGHT_ANKLE\"]].y]\n",
        "        )\n",
        "\n",
        "        data[\"angles\"][\"back_angle\"] = calculate_angle(\n",
        "            [landmarks[KEY_LANDMARKS[\"LEFT_SHOULDER\"]].x, landmarks[KEY_LANDMARKS[\"LEFT_SHOULDER\"]].y],\n",
        "            [landmarks[KEY_LANDMARKS[\"LEFT_HIP\"]].x, landmarks[KEY_LANDMARKS[\"LEFT_HIP\"]].y],\n",
        "            [landmarks[KEY_LANDMARKS[\"LEFT_KNEE\"]].x, landmarks[KEY_LANDMARKS[\"LEFT_KNEE\"]].y]\n",
        "        )\n",
        "\n",
        "    return data[\"angles\"]"
      ],
      "metadata": {
        "id": "x4tTAZWXnrWn"
      },
      "execution_count": null,
      "outputs": []
    },
    {
      "cell_type": "code",
      "execution_count": 32,
      "metadata": {
        "id": "QipRi2ozw7cg",
        "outputId": "7ee74d48-58b8-489c-cfc1-cf5b93070044",
        "colab": {
          "base_uri": "https://localhost:8080/",
          "height": 106
        }
      },
      "outputs": [
        {
          "output_type": "error",
          "ename": "SyntaxError",
          "evalue": "'return' outside function (<ipython-input-32-13165ebcb66b>, line 52)",
          "traceback": [
            "\u001b[0;36m  File \u001b[0;32m\"<ipython-input-32-13165ebcb66b>\"\u001b[0;36m, line \u001b[0;32m52\u001b[0m\n\u001b[0;31m    return data[\"angles\"]\u001b[0m\n\u001b[0m    ^\u001b[0m\n\u001b[0;31mSyntaxError\u001b[0m\u001b[0;31m:\u001b[0m 'return' outside function\n"
          ]
        }
      ],
      "source": [
        "frames_data = []\n",
        "import mediapipe as mp\n",
        "\n",
        "# Initialisation de MediaPipe\n",
        "mp_pose = mp.solutions.pose\n",
        "pose = mp_pose.Pose()\n",
        "\n",
        "prev_landmark = {}\n",
        "while cap.isOpened():\n",
        "    ret, frame = cap.read()\n",
        "    if not ret:\n",
        "        break\n",
        "\n",
        "    # Convertir l'image en RGB\n",
        "    frame_rgb = cv2.cvtColor(frame, cv2.COLOR_BGR2RGB)\n",
        "\n",
        "    # Détection des points clés\n",
        "    results = pose.process(frame_rgb)\n",
        "\n",
        "    frames_data.append(data[\"angles\"])"
      ]
    },
    {
      "cell_type": "code",
      "source": [
        "import numpy as np\n",
        "data1 = data\n",
        "data2 = data\n",
        "for el in data[\"landmarks\"]:\n",
        "  print(el)\n",
        "  data[\"landmarks\"]\n",
        "  print(np.linalg.norm(np.array(data1[\"landmarks\"][el]['x']) - np.array(data2[\"landmarks\"][el]['x'])))"
      ],
      "metadata": {
        "id": "JOpKyVpwkrLp",
        "outputId": "3734a4a0-1974-4309-9787-70e470743efa",
        "colab": {
          "base_uri": "https://localhost:8080/"
        }
      },
      "execution_count": 25,
      "outputs": [
        {
          "output_type": "stream",
          "name": "stdout",
          "text": [
            "LEFT_HIP\n",
            "0.0\n",
            "RIGHT_HIP\n",
            "0.0\n",
            "LEFT_KNEE\n",
            "0.0\n",
            "RIGHT_KNEE\n",
            "0.0\n",
            "LEFT_ANKLE\n",
            "0.0\n",
            "RIGHT_ANKLE\n",
            "0.0\n",
            "LEFT_SHOULDER\n",
            "0.0\n",
            "RIGHT_SHOULDER\n",
            "0.0\n"
          ]
        }
      ]
    },
    {
      "cell_type": "code",
      "source": [
        "def has_movement(prev_points, curr_points, threshold=5):\n",
        "    \"\"\"\n",
        "    Vérifie si le mouvement est significatif entre les deux frames en comparant la distance entre les points.\n",
        "    \"\"\"\n",
        "    if prev_points is None:\n",
        "        return True  # Premier frame, donc on considère qu'il y a du mouvement\n",
        "\n",
        "    # for prev, curr in zip(prev_points, curr_points):\n",
        "    #     if np.linalg.norm(np.array(prev) - np.array(curr)) > threshold:\n",
        "    #         return True\n",
        "\n",
        "    for el in data[\"landmarks\"]:\n",
        "      if (np.linalg.norm(np.array(prev_points[el]['x']) - np.array(curr_points[el]['x'])))> 2:\n",
        "        return True\n",
        "    return False"
      ],
      "metadata": {
        "id": "yzvMyXHjlIvD"
      },
      "execution_count": 30,
      "outputs": []
    },
    {
      "cell_type": "code",
      "source": [
        "has_movement(data1[\"landmarks\"], data1[\"landmarks\"])"
      ],
      "metadata": {
        "id": "JZVXazjtj-XM",
        "outputId": "dd32487d-e5d6-4d34-9b04-200272bb3ed9",
        "colab": {
          "base_uri": "https://localhost:8080/"
        }
      },
      "execution_count": 31,
      "outputs": [
        {
          "output_type": "execute_result",
          "data": {
            "text/plain": [
              "False"
            ]
          },
          "metadata": {},
          "execution_count": 31
        }
      ]
    },
    {
      "cell_type": "code",
      "source": [],
      "metadata": {
        "id": "OPPBQkyWmk5i"
      },
      "execution_count": null,
      "outputs": []
    }
  ],
  "metadata": {
    "colab": {
      "provenance": []
    },
    "kernelspec": {
      "display_name": "Python 3 (ipykernel)",
      "language": "python",
      "name": "python3"
    },
    "language_info": {
      "codemirror_mode": {
        "name": "ipython",
        "version": 3
      },
      "file_extension": ".py",
      "mimetype": "text/x-python",
      "name": "python",
      "nbconvert_exporter": "python",
      "pygments_lexer": "ipython3",
      "version": "3.8.10"
    }
  },
  "nbformat": 4,
  "nbformat_minor": 0
}